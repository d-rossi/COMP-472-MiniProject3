{
 "cells": [
  {
   "cell_type": "code",
   "execution_count": 79,
   "id": "667e3838",
   "metadata": {},
   "outputs": [],
   "source": [
    "import gensim.downloader as api\n",
    "from gensim.models.word2vec import Word2Vec\n",
    "import random\n",
    "from collections import Counter\n",
    "import pandas as pd\n",
    "import matplotlib.pyplot as plt\n",
    "import numpy as np"
   ]
  },
  {
   "cell_type": "code",
   "execution_count": 80,
   "id": "c1c5b569",
   "metadata": {},
   "outputs": [],
   "source": [
    "#check if guess\n",
    "def is_guess(model, row):\n",
    "    if not model.has_index_for(row['question']):\n",
    "        return True\n",
    "    for i in range(4):\n",
    "        if model.has_index_for(row[str(i)]):\n",
    "            return False\n",
    "    return True"
   ]
  },
  {
   "cell_type": "code",
   "execution_count": 81,
   "id": "27633ed9",
   "metadata": {},
   "outputs": [],
   "source": [
    "file = open('sample_6.txt', 'r')\n",
    "data_unclean = file.readlines()\n",
    "block_size = 6\n",
    "\n",
    "for i in range(int(len(data_unclean)/block_size)):\n",
    "    question = data_unclean[(i*6)].split(\".\\t\")[1].strip()\n",
    "    c1 = np.array([data_unclean[(i*6)+1].split(\".\\t\")[0].strip(),data_unclean[(i*6)+1].split(\".\\t\")[1].strip()])\n",
    "    c2 = np.array([data_unclean[(i*6)+2].split(\".\\t\")[0].strip(),data_unclean[(i*6)+2].split(\".\\t\")[1].strip()])\n",
    "    c3 = np.array([data_unclean[(i*6)+3].split(\".\\t\")[0].strip(),data_unclean[(i*6)+3].split(\".\\t\")[1].strip()])\n",
    "    c4 = np.array([data_unclean[(i*6)+4].split(\".\\t\")[0].strip(),data_unclean[(i*6)+4].split(\".\\t\")[1].strip()])\n",
    "    ans_letter = data_unclean[(i*6)+5].strip()\n",
    "    if ans_letter == 'a':\n",
    "        ans = c1[1]\n",
    "    elif ans_letter == 'b':\n",
    "        ans = c2[1]\n",
    "    elif ans_letter == 'c':\n",
    "        ans = c3[1]\n",
    "    else:\n",
    "        ans = c4[1]\n",
    "    pd.DataFrame([question, ans, c1[1], c2[1], c3[1], c4[1]]).T.to_csv(\n",
    "    'sample_6.csv', sep=',', index=False, header=False, mode='a')\n",
    "\n",
    "    \n",
    "df = pd.read_csv(\"sample_6.csv\", header=None)\n",
    "df.to_csv(\"sample_6.csv\", header=['question', 'answer', '0', '1', '2', '3'], index=False)"
   ]
  },
  {
   "cell_type": "code",
   "execution_count": 82,
   "id": "8b71f65f",
   "metadata": {},
   "outputs": [],
   "source": [
    "#find the closest synonym to the question-word. Use the similarity method from Gensim.\n",
    "def guess_synonym(model):\n",
    "    data = pd.read_csv('sample_6.csv')\n",
    "    output_data = []\n",
    "    most_similar = 0\n",
    "    guess_word = \"\"\n",
    "    label = \"\"\n",
    "    for row in data.to_dict(orient=\"records\"):\n",
    "        for i in range(4):\n",
    "            if (is_guess(model, row)):\n",
    "                random_word_key = random.randint(0,3)\n",
    "                guess_word = row[str(random_word_key)]\n",
    "                label = \"guess\"\n",
    "                break\n",
    "            if not model.has_index_for(row[str(i)]):\n",
    "                continue\n",
    "            else:\n",
    "                model_similarity = model.similarity(row['question'], row[str(i)])\n",
    "            if (model_similarity > most_similar):\n",
    "                most_similar = model_similarity\n",
    "                guess_word = row[str(i)]\n",
    "        if (label != \"guess\"):\n",
    "            label = \"correct\" if (guess_word == row['answer']) else \"wrong\"\n",
    "\n",
    "        output_data.append({\"question\": row['question'], \"answer\": row['answer'], \"guess\": guess_word, \"label\": label})\n",
    "        most_similar = 0\n",
    "        guess_word = \"\"\n",
    "        label = \"\"\n",
    "    return output_data"
   ]
  },
  {
   "cell_type": "code",
   "execution_count": 83,
   "id": "974ed849",
   "metadata": {},
   "outputs": [],
   "source": [
    "#write results to csv file\n",
    "def write_results(model_name, data):\n",
    "    fieldnames = data[0].keys()\n",
    "    fieldnames = output_data[0].keys()\n",
    "    pd.DataFrame(output_data, columns=fieldnames).to_csv(\n",
    "    f'{model_name}-details-demo.csv', sep=',', index=False)"
   ]
  },
  {
   "cell_type": "code",
   "execution_count": 84,
   "id": "6e687fb0",
   "metadata": {},
   "outputs": [],
   "source": [
    "#write analysis file\n",
    "def write_analysis(model_name, model, results):\n",
    "    vocab_size = len(model)\n",
    "    results_per_label = Counter(element['label'] for element in results)\n",
    "    c = results_per_label['correct']\n",
    "    v = 20-results_per_label['guess']\n",
    "    model_accuracy = c/v\n",
    "    pd.DataFrame([model_name, vocab_size, c, v, model_accuracy]).T.to_csv(\n",
    "    'analysis-demo.csv', sep=',', index=False, header=False, mode='a')"
   ]
  },
  {
   "cell_type": "code",
   "execution_count": 85,
   "id": "4411a64d",
   "metadata": {},
   "outputs": [],
   "source": [
    "#load the pretrained embedding models !!WARNING!! TAKES A WHILE TO RUN\n",
    "model_names = [\"word2vec-google-news-300\",\"glove-twitter-50\", \"glove-wiki-gigaword-50\", \"glove-wiki-gigaword-100\", \"glove-wiki-gigaword-200\"]\n",
    "models = np.array([])\n",
    "for model_name in model_names:\n",
    "    models = np.append(models, api.load(model_name))"
   ]
  },
  {
   "cell_type": "code",
   "execution_count": 86,
   "id": "9d2df7e8",
   "metadata": {},
   "outputs": [],
   "source": [
    "# store the results, perform the analysis\n",
    "for i in range(len(model_names)):\n",
    "    output_data = guess_synonym(models[i])\n",
    "    write_results(model_names[i], output_data)\n",
    "    write_analysis(model_names[i], models[i], output_data)"
   ]
  }
 ],
 "metadata": {
  "kernelspec": {
   "display_name": "Python 3 (ipykernel)",
   "language": "python",
   "name": "python3"
  },
  "language_info": {
   "codemirror_mode": {
    "name": "ipython",
    "version": 3
   },
   "file_extension": ".py",
   "mimetype": "text/x-python",
   "name": "python",
   "nbconvert_exporter": "python",
   "pygments_lexer": "ipython3",
   "version": "3.8.8"
  }
 },
 "nbformat": 4,
 "nbformat_minor": 5
}
