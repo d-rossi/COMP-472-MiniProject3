{
 "cells": [
  {
   "cell_type": "code",
   "execution_count": null,
   "id": "ff63597c",
   "metadata": {},
   "outputs": [],
   "source": [
    "import gensim.downloader as api\n",
    "from gensim.models.word2vec import Word2Vec\n",
    "import csv\n",
    "import random\n",
    "from collections import Counter"
   ]
  },
  {
   "cell_type": "code",
   "execution_count": null,
   "id": "4f562407",
   "metadata": {},
   "outputs": [],
   "source": [
    "#load the word2vec-google-news-300 pretrained embedding model\n",
    "model = api.load(\"word2vec-google-news-300\")"
   ]
  },
  {
   "cell_type": "code",
   "execution_count": null,
   "id": "d30d3b63",
   "metadata": {},
   "outputs": [],
   "source": [
    "#check if guess\n",
    "def is_guess(line):\n",
    "    if not model.has_index_for(line['question']):\n",
    "        return True\n",
    "    for i in range(4):\n",
    "        if model.has_index_for(line[str(i)]):\n",
    "            return False\n",
    "    return True"
   ]
  },
  {
   "cell_type": "code",
   "execution_count": null,
   "id": "ac00d4d0",
   "metadata": {},
   "outputs": [],
   "source": [
    "#find the closest synonym to the question-word. Use the similarity method from Gensim.\n",
    "output_data = []\n",
    "with open('synonyms.csv', 'r') as csv_file:\n",
    "    csv_reader = csv.DictReader(csv_file)\n",
    "    most_similar = 0\n",
    "    guess_word = \"\"\n",
    "    label = \"\"\n",
    "    for line in csv_reader:\n",
    "        for i in range(4):\n",
    "            if (is_guess(line)):\n",
    "                random_word_key = random.randint(0,3)\n",
    "                guess_word = line[str(random_word_key)]\n",
    "                label = \"guess\"\n",
    "                break\n",
    "            if not model.has_index_for(line[str(i)]):\n",
    "                continue\n",
    "            else:\n",
    "                model_similarity = model.similarity(line['question'], line[str(i)])\n",
    "            if (model_similarity > most_similar):\n",
    "                most_similar = model_similarity\n",
    "                guess_word = line[str(i)]\n",
    "        if (label != \"guess\"):\n",
    "            label = \"correct\" if (guess_word == line['answer']) else \"wrong\"\n",
    "        \n",
    "        output_data.append({\"question\": line['question'], \"answer\": line['answer'], \"guess\": guess_word, \"label\": label})\n",
    "        most_similar = 0\n",
    "        guess_word = \"\"\n",
    "        label = \"\""
   ]
  },
  {
   "cell_type": "code",
   "execution_count": null,
   "id": "3745e4ba",
   "metadata": {},
   "outputs": [],
   "source": [
    "#write results to csv file\n",
    "with open('word2vec-google-news-300-details.csv', 'w') as new_file:\n",
    "    fieldnames = output_data[0].keys()\n",
    "    csv_writer = csv.DictWriter(new_file, fieldnames, lineterminator = '\\n')\n",
    "    csv_writer.writeheader()\n",
    "    csv_writer.writerows(output_data)"
   ]
  }
 ],
 "metadata": {
  "kernelspec": {
   "display_name": "Python 3 (ipykernel)",
   "language": "python",
   "name": "python3"
  },
  "language_info": {
   "codemirror_mode": {
    "name": "ipython",
    "version": 3
   },
   "file_extension": ".py",
   "mimetype": "text/x-python",
   "name": "python",
   "nbconvert_exporter": "python",
   "pygments_lexer": "ipython3",
   "version": "3.7.3"
  }
 },
 "nbformat": 4,
 "nbformat_minor": 5
}
